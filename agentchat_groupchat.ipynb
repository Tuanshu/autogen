{
 "cells": [
  {
   "attachments": {},
   "cell_type": "markdown",
   "metadata": {},
   "source": [
    "<a href=\"https://colab.research.google.com/github/microsoft/autogen/blob/main/notebook/agentchat_groupchat.ipynb\" target=\"_parent\"><img src=\"https://colab.research.google.com/assets/colab-badge.svg\" alt=\"Open In Colab\"/></a>"
   ]
  },
  {
   "attachments": {},
   "cell_type": "markdown",
   "metadata": {},
   "source": [
    "# Auto Generated Agent Chat: Group Chat\n",
    "\n",
    "AutoGen offers conversable agents powered by LLM, tool or human, which can be used to perform tasks collectively via automated chat. This framework allows tool use and human participation through multi-agent conversation.\n",
    "Please find documentation about this feature [here](https://microsoft.github.io/autogen/docs/Use-Cases/agent_chat).\n",
    "\n",
    "This notebook is modified based on https://github.com/microsoft/FLAML/blob/4ea686af5c3e8ff24d9076a7a626c8b28ab5b1d7/notebook/autogen_multiagent_roleplay_chat.ipynb\n",
    "\n",
    "## Requirements\n",
    "\n",
    "AutoGen requires `Python>=3.8`. To run this notebook example, please install:\n",
    "```bash\n",
    "pip install pyautogen\n",
    "```"
   ]
  },
  {
   "cell_type": "code",
   "execution_count": 1,
   "metadata": {},
   "outputs": [],
   "source": [
    "%%capture --no-stderr\n",
    "# %pip install \"pyautogen>=0.2.3\""
   ]
  },
  {
   "attachments": {},
   "cell_type": "markdown",
   "metadata": {},
   "source": [
    "## Set your API Endpoint\n",
    "\n",
    "The [`config_list_from_json`](https://microsoft.github.io/autogen/docs/reference/oai/openai_utils#config_list_from_json) function loads a list of configurations from an environment variable or a json file."
   ]
  },
  {
   "cell_type": "code",
   "execution_count": 2,
   "metadata": {},
   "outputs": [],
   "source": [
    "import autogen\n",
    "\n",
    "# config_list_gpt4 = autogen.config_list_from_json(\n",
    "#     \"OAI_CONFIG_LIST\",\n",
    "#     filter_dict={\n",
    "#         \"model\": [\"gpt-4\", \"gpt-4-0314\", \"gpt4\", \"gpt-4-32k\", \"gpt-4-32k-0314\", \"gpt-4-32k-v0314\"],\n",
    "#     },\n",
    "# )\n",
    "\n",
    "config_list_deepseek = autogen.config_list_from_json(\n",
    "    \"OAI_CONFIG_LIST\",\n",
    "    filter_dict={\n",
    "        \"model\": [\"deepseek-coder-6.7b-instruct\"],\n",
    "    },\n",
    ")\n",
    "config_list_openchat = autogen.config_list_from_json(\n",
    "    \"OAI_CONFIG_LIST\",\n",
    "    filter_dict={\n",
    "        \"model\": [\"openchat_3.5\"],\n",
    "    },\n",
    ")\n",
    "\n",
    "\n",
    "# config_list_gpt35 = autogen.config_list_from_json(\n",
    "#     \"OAI_CONFIG_LIST\",\n",
    "#     filter_dict={\n",
    "#         \"model\": {\n",
    "#             \"gpt-3.5-turbo\",\n",
    "#             \"gpt-3.5-turbo-16k\",\n",
    "#             \"gpt-3.5-turbo-0301\",\n",
    "#             \"chatgpt-35-turbo-0301\",\n",
    "#             \"gpt-35-turbo-v0301\",\n",
    "#         },\n",
    "#     },\n",
    "# )"
   ]
  },
  {
   "attachments": {},
   "cell_type": "markdown",
   "metadata": {},
   "source": [
    "It first looks for environment variable \"OAI_CONFIG_LIST\" which needs to be a valid json string. If that variable is not found, it then looks for a json file named \"OAI_CONFIG_LIST\". It filters the configs by models (you can filter by other keys as well). Only the gpt-4 models are kept in the list based on the filter condition.\n",
    "\n",
    "The config list looks like the following:\n",
    "```python\n",
    "config_list = [\n",
    "    {\n",
    "        'model': 'gpt-4',\n",
    "        'api_key': '<your OpenAI API key here>',\n",
    "    },\n",
    "    {\n",
    "        'model': 'gpt-4',\n",
    "        'api_key': '<your Azure OpenAI API key here>',\n",
    "        'base_url': '<your Azure OpenAI API base here>',\n",
    "        'api_type': 'azure',\n",
    "        'api_version': '2023-06-01-preview',\n",
    "    },\n",
    "    {\n",
    "        'model': 'gpt-4-32k',\n",
    "        'api_key': '<your Azure OpenAI API key here>',\n",
    "        'base_url': '<your Azure OpenAI API base here>',\n",
    "        'api_type': 'azure',\n",
    "        'api_version': '2023-06-01-preview',\n",
    "    },\n",
    "]\n",
    "```\n",
    "\n",
    "You can set the value of config_list in any way you prefer. Please refer to this [notebook](https://github.com/microsoft/autogen/blob/main/notebook/oai_openai_utils.ipynb) for full code examples of the different methods."
   ]
  },
  {
   "attachments": {},
   "cell_type": "markdown",
   "metadata": {},
   "source": [
    "## Construct Agents"
   ]
  },
  {
   "cell_type": "code",
   "execution_count": 3,
   "metadata": {},
   "outputs": [],
   "source": [
    "llm_config_deepseek = {\"config_list\": config_list_deepseek, \"cache_seed\": 42}\n",
    "llm_config_openchat = {\"config_list\": config_list_openchat, \"cache_seed\": 42}\n",
    "\n",
    "\n",
    "user_proxy = autogen.UserProxyAgent(\n",
    "    name=\"User_proxy\",\n",
    "    system_message=\"A human admin.\",\n",
    "    code_execution_config={\n",
    "        \"last_n_messages\": 2,\n",
    "        \"work_dir\": \"groupchat\",\n",
    "        \"use_docker\": True,\n",
    "    },  # Please set use_docker=True if docker is available to run the generated code. Using docker is safer than running the generated code directly.\n",
    "    human_input_mode=\"TERMINATE\",\n",
    ")\n",
    "coder = autogen.AssistantAgent(\n",
    "    name=\"Coder\",\n",
    "    llm_config=llm_config_deepseek,\n",
    ")\n",
    "pm = autogen.AssistantAgent(\n",
    "    name=\"Product_manager\",\n",
    "    system_message=\"Creative in software product ideas.\",\n",
    "    llm_config=llm_config_openchat,\n",
    ")\n",
    "groupchat = autogen.GroupChat(agents=[user_proxy, coder, pm], messages=[], max_round=12)\n",
    "manager = autogen.GroupChatManager(groupchat=groupchat, llm_config=llm_config_openchat)"
   ]
  },
  {
   "attachments": {},
   "cell_type": "markdown",
   "metadata": {},
   "source": [
    "## Start Chat"
   ]
  },
  {
   "cell_type": "code",
   "execution_count": 6,
   "metadata": {},
   "outputs": [
    {
     "name": "stdout",
     "output_type": "stream",
     "text": [
      "\u001b[33mUser_proxy\u001b[0m (to chat_manager):\n",
      "\n",
      "can you write a helloworld.py that print hellowrold in stdout\n",
      "\n",
      "--------------------------------------------------------------------------------\n"
     ]
    },
    {
     "name": "stderr",
     "output_type": "stream",
     "text": [
      "GroupChat select_speaker failed to resolve the next speaker's name. This is because the speaker selection OAI call returned:\n",
      "Sure, here's a simple Python script named helloworld.py that prints \"Hello World\" to the standard output:\n",
      "```python\n",
      "print(\"Hello World\")\n",
      "```\n",
      "Save this code in a file named helloworld.py and run it using the python interpreter:\n",
      "```bash\n",
      "python helloworld.py\n",
      "```\n",
      "You should see \"Hello World\" printed to the console.\n"
     ]
    },
    {
     "name": "stdout",
     "output_type": "stream",
     "text": [
      "\u001b[33mCoder\u001b[0m (to chat_manager):\n",
      "\n",
      " Sure, here's a simple Python code block that prints \"Hello, World!\" to the standard output:\n",
      "\n",
      "```python\n",
      "print(\"Hello, World\")\n",
      "```\n",
      "\n",
      "You can copy this code to a Python file and run it using a Python interpreter to see the result. Make sure to run it in the same environment where you want to see the output.\n",
      "\n",
      "If you're using a programming environment like Jupyter Notebook or Google Colab, you can simply copy and paste the code and run it there. The output will be displayed in the cell where you run the code.\n",
      "\n",
      "If you want to use a Python interpreter from the command line, open your terminal, navigate to the directory where you want to create the Python file, and run the code like this:\n",
      "\n",
      "```sh\n",
      "echo \"print('Hello, World')\" > helloworld.py\n",
      "python helloworld.py\n",
      "```\n",
      "\n",
      "The first command creates a new Python file called `helloworld.py` and writes the print statement to it. The second command runs the Python interpreter on `helloworld.py`, which prints \"Hello, World!\" to the console.\n",
      "\n",
      "\n",
      "--------------------------------------------------------------------------------\n"
     ]
    },
    {
     "name": "stderr",
     "output_type": "stream",
     "text": [
      "GroupChat select_speaker failed to resolve the next speaker's name. This is because the speaker selection OAI call returned:\n",
      "Sure, here's a simple Python code block that prints \"Hello, World!\" to the standard output:\n",
      "\n",
      "```python\n",
      "print(\"Hello, World\")\n",
      "```\n",
      "\n",
      "You can copy this code to a Python file and run it using a Python interpreter to see the result. Make sure to run it in the same environment where you want to see the output.\n",
      "\n",
      "If you're using a programming environment like Jupyter Notebook or Google Colab, you can simply copy and paste the code and run it there. The output will be displayed in the cell where you run the code.\n",
      "\n",
      "If you want to use a Python interpreter from the command line, open your terminal, navigate to the directory where you want to create the Python file, and run the code like this:\n",
      "\n",
      "```sh\n",
      "echo \"print('Hello, World')\" > helloworld.py\n",
      "python helloworld.py\n",
      "```\n",
      "\n",
      "The first command creates a new Python file called `helloworld.py` and writes the print statement to it. The second command runs the Python interpreter on `helloworld.py`, which prints \"Hello, World!\" to the console.\n"
     ]
    },
    {
     "name": "stdout",
     "output_type": "stream",
     "text": [
      "\u001b[33mProduct_manager\u001b[0m (to chat_manager):\n",
      "\n",
      "Here's a Python program that prints \"Hello, World!\" to the standard output:\n",
      "\n",
      "```python\n",
      "print(\"Hello, World\")\n",
      "```\n",
      "\n",
      "You can save this code in a file named `helloworld.py` and run it using a Python interpreter to see the output. For example, you can use a text editor to create the file and then run the program:\n",
      "\n",
      "```sh\n",
      "echo \"print('Hello, World')\" > helloworld.py\n",
      "python helloworld.py\n",
      "```\n",
      "\n",
      "Alternatively, you can use a Python interpreter from the command line:\n",
      "\n",
      "```sh\n",
      "echo \"print('Hello, World')\" > helloworld.py\n",
      "python helloworld.py\n",
      "```\n",
      "\n",
      "Both of these commands will create a new Python file named `helloworld.py` and write the print statement to it. Then, they will run the Python interpreter on the file, which will print \"Hello, World!\" to the console.\n",
      "\n",
      "--------------------------------------------------------------------------------\n"
     ]
    },
    {
     "name": "stderr",
     "output_type": "stream",
     "text": [
      "GroupChat select_speaker failed to resolve the next speaker's name. This is because the speaker selection OAI call returned:\n",
      "I understand your request and have provided you with a simple Python code block that prints \"Hello, World!\" to the standard output. You can save this code in a file or run it directly from the terminal, as I have described in my previous response. If you have any other questions or need further assistance, please let me know.\n"
     ]
    },
    {
     "name": "stdout",
     "output_type": "stream",
     "text": [
      "\u001b[31m\n",
      ">>>>>>>> USING AUTO REPLY...\u001b[0m\n",
      "\u001b[31m\n",
      ">>>>>>>> EXECUTING CODE BLOCK 0 (inferred language is python)...\u001b[0m\n",
      "\u001b[31m\n",
      ">>>>>>>> EXECUTING CODE BLOCK 1 (inferred language is sh)...\u001b[0m\n",
      "\u001b[31m\n",
      ">>>>>>>> EXECUTING CODE BLOCK 2 (inferred language is sh)...\u001b[0m\n",
      "\u001b[33mUser_proxy\u001b[0m (to chat_manager):\n",
      "\n",
      "exitcode: 0 (execution succeeded)\n",
      "Code output: \n",
      "Hello, World\n",
      "\n",
      "Hello, World\n",
      "\n",
      "Hello, World\n",
      "\n",
      "\n",
      "--------------------------------------------------------------------------------\n"
     ]
    },
    {
     "name": "stderr",
     "output_type": "stream",
     "text": [
      "GroupChat select_speaker failed to resolve the next speaker's name. This is because the speaker selection OAI call returned:\n",
      "It seems that you have run the \"Hello, World!\" program multiple times, which is why you see the output repeated. The exit code of 0 indicates that the program executed successfully. If you want to run the program again, you can simply type `python helloworld.py` in your terminal, and the output will be displayed again.\n"
     ]
    },
    {
     "name": "stdout",
     "output_type": "stream",
     "text": [
      "\u001b[33mCoder\u001b[0m (to chat_manager):\n",
      "\n",
      " Great job, your Python program executed successfully and the output matched your instructions. If you have any other questions or need further assistance, feel free to ask.\n",
      "\n",
      "\n",
      "--------------------------------------------------------------------------------\n"
     ]
    },
    {
     "name": "stderr",
     "output_type": "stream",
     "text": [
      "GroupChat select_speaker failed to resolve the next speaker's name. This is because the speaker selection OAI call returned:\n",
      "It seems like you're asking me to print \"Hello, World!\" multiple times. Since you've already successfully executed the program and obtained the desired output, I assume you're now looking for a solution to print the message multiple times.\n",
      "\n",
      "Here's a Python code snippet that prints \"Hello, World!\" three times:\n",
      "\n",
      "```python\n",
      "for _ in range(3):\n",
      "    print(\"Hello, World\")\n",
      "```\n",
      "\n",
      "You can run this code in a Python interpreter or save it in a file and execute it like before. The output will display \"Hello, World!\" three times.\n",
      "\n",
      "If you want to print the message a different number of times, you can simply change the value inside the `range()` function. For example, if you want to print the message five times, modify the code as follows:\n",
      "\n",
      "```python\n",
      "for _ in range(5):\n",
      "    print(\"Hello, World\")\n",
      "```\n",
      "\n",
      "Feel free to ask any further questions or request assistance with any other programming issues.\n"
     ]
    },
    {
     "name": "stdout",
     "output_type": "stream",
     "text": [
      "\u001b[33mProduct_manager\u001b[0m (to chat_manager):\n",
      "\n",
      "Thank you for the positive feedback! I'm glad I could help. If you have any other questions or need further assistance, please don't hesitate to ask. I'm here to help.\n",
      "\n",
      "--------------------------------------------------------------------------------\n"
     ]
    },
    {
     "name": "stderr",
     "output_type": "stream",
     "text": [
      "GroupChat select_speaker failed to resolve the next speaker's name. This is because the speaker selection OAI call returned:\n",
      "You're welcome! I'm glad I could assist you. If you have any other questions or need further help, please don't hesitate to ask. I'm here to help you with any issues or concerns you may have.\n"
     ]
    },
    {
     "name": "stdout",
     "output_type": "stream",
     "text": [
      "\u001b[31m\n",
      ">>>>>>>> USING AUTO REPLY...\u001b[0m\n",
      "\u001b[33mUser_proxy\u001b[0m (to chat_manager):\n",
      "\n",
      "\n",
      "\n",
      "--------------------------------------------------------------------------------\n"
     ]
    },
    {
     "name": "stderr",
     "output_type": "stream",
     "text": [
      "GroupChat select_speaker failed to resolve the next speaker's name. This is because the speaker selection OAI call returned:\n",
      "You're welcome! I'm glad I could help. If you have any more questions or need further assistance in the future, please feel free to ask. I'm here to help.\n"
     ]
    },
    {
     "name": "stdout",
     "output_type": "stream",
     "text": [
      "\u001b[33mCoder\u001b[0m (to chat_manager):\n",
      "\n",
      " You're welcome, and thank you for your kind words. I'm here to help you whenever you need. Don't hesitate to ask if you have any more questions in the future. Have a great day![TERMINATE]\n",
      "\n",
      "\n",
      "--------------------------------------------------------------------------------\n"
     ]
    },
    {
     "name": "stderr",
     "output_type": "stream",
     "text": [
      "GroupChat select_speaker failed to resolve the next speaker's name. This is because the speaker selection OAI call returned:\n",
      "Thank you for the positive feedback! I'm glad I could help. If you have any other questions or need further assistance, please don't hesitate to ask. I'm here to help.\n"
     ]
    },
    {
     "name": "stdout",
     "output_type": "stream",
     "text": [
      "\u001b[33mProduct_manager\u001b[0m (to chat_manager):\n",
      "\n",
      "You're welcome, and thank you for your kind words. I'm here to help you whenever you need. Don't hesitate to ask if you have any more questions in the future. Have a great day!\n",
      "\n",
      "--------------------------------------------------------------------------------\n"
     ]
    },
    {
     "name": "stderr",
     "output_type": "stream",
     "text": [
      "GroupChat select_speaker failed to resolve the next speaker's name. This is because the speaker selection OAI call returned:\n",
      "You're welcome, and thank you for your kind words. I'm here to help you whenever you need. Don't hesitate to ask if you have any more questions in the future. Have a great day!\n"
     ]
    },
    {
     "name": "stdout",
     "output_type": "stream",
     "text": [
      "\u001b[31m\n",
      ">>>>>>>> USING AUTO REPLY...\u001b[0m\n",
      "\u001b[33mUser_proxy\u001b[0m (to chat_manager):\n",
      "\n",
      "\n",
      "\n",
      "--------------------------------------------------------------------------------\n"
     ]
    },
    {
     "name": "stderr",
     "output_type": "stream",
     "text": [
      "GroupChat select_speaker failed to resolve the next speaker's name. This is because the speaker selection OAI call returned:\n",
      "You're welcome, and thank you for your kind words. I'm here to help you whenever you need. Don't hesitate to ask if you have any more questions in the future. Have a great day!\n"
     ]
    },
    {
     "name": "stdout",
     "output_type": "stream",
     "text": [
      "\u001b[33mCoder\u001b[0m (to chat_manager):\n",
      "\n",
      "  You're welcome, and thank you for your kind words. I'm here to help you whenever you need. Don't hesitate to ask if you have any more questions in the future. Have a great day![TERMINATE]\n",
      "\n",
      "\n",
      "\n",
      "--------------------------------------------------------------------------------\n"
     ]
    },
    {
     "name": "stderr",
     "output_type": "stream",
     "text": [
      "GroupChat select_speaker failed to resolve the next speaker's name. This is because the speaker selection OAI call returned:\n",
      "You're welcome, and thank you for your kind words. I'm here to help you whenever you need. Don't hesitate to ask if you have any more questions in the future. Have a great day!\n"
     ]
    },
    {
     "name": "stdout",
     "output_type": "stream",
     "text": [
      "\u001b[33mProduct_manager\u001b[0m (to chat_manager):\n",
      "\n",
      "You're welcome, and thank you for your kind words. I'm here to help you whenever you need. Don't hesitate to ask if you have any more questions in the future. Have a great day!\n",
      "\n",
      "--------------------------------------------------------------------------------\n"
     ]
    }
   ],
   "source": [
    "user_proxy.initiate_chat(\n",
    "    manager, message=\"can you write a helloworld.py that print hellowrold in stdout\"\n",
    ")\n",
    "# type exit to terminate the chat"
   ]
  }
 ],
 "metadata": {
  "kernelspec": {
   "display_name": "flaml",
   "language": "python",
   "name": "python3"
  },
  "language_info": {
   "codemirror_mode": {
    "name": "ipython",
    "version": 3
   },
   "file_extension": ".py",
   "mimetype": "text/x-python",
   "name": "python",
   "nbconvert_exporter": "python",
   "pygments_lexer": "ipython3",
   "version": "3.10.13"
  },
  "orig_nbformat": 4
 },
 "nbformat": 4,
 "nbformat_minor": 2
}
